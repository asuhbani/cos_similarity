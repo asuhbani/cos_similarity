{
  "nbformat": 4,
  "nbformat_minor": 0,
  "metadata": {
    "colab": {
      "provenance": [],
      "authorship_tag": "ABX9TyMl2sGttzlUbyCOnyQ4ZhGh",
      "include_colab_link": true
    },
    "kernelspec": {
      "name": "python3",
      "display_name": "Python 3"
    },
    "language_info": {
      "name": "python"
    }
  },
  "cells": [
    {
      "cell_type": "markdown",
      "metadata": {
        "id": "view-in-github",
        "colab_type": "text"
      },
      "source": [
        "<a href=\"https://colab.research.google.com/github/asuhbani/cos_similarity/blob/main/cmpare_name_in_1_column.ipynb\" target=\"_parent\"><img src=\"https://colab.research.google.com/assets/colab-badge.svg\" alt=\"Open In Colab\"/></a>"
      ]
    },
    {
      "cell_type": "code",
      "source": [
        "import pandas as pd\n",
        "from difflib import SequenceMatcher\n",
        "# قراءة ملف إكسل وتحميله في قطاع الذاكرة باستخدام pandas\n",
        "df = pd.read_excel('/content/names.xlsx')\n",
        "df.shape\n",
        "# تعويض القيم المفقودة بقيمة فارغة\n",
        "df = df.fillna('')\n",
        "\n",
        "# تحديد العمود الذي يتم العثور على الأسماء المتشابهة فيه\n",
        "column_name = 'Customer name'\n",
        "\n",
        "# إنشاء سلسلة جديدة تحتوي على الأسماء المتشابهة\n",
        "duplicates = []\n",
        "for i in range(len(df)):\n",
        "    for j in range(i+1, len(df)):\n",
        "        # استخراج الأسماء من الصفوف الحالية\n",
        "        name1 = df.loc[i, column_name]\n",
        "        name2 = df.loc[j, column_name]\n",
        "        # حساب الشبه بين الاسمين باستخدام مكتبة difflib\n",
        "        similarity_score = SequenceMatcher(None, name1, name2).ratio()\n",
        "        # إضافة الأسماء المتشابهة إلى السلسلة الجديدة إذا كانت الشبه بينهما أكبر من 50٪\n",
        "        if similarity_score > 0.5:\n",
        "            duplicates.append((name1, name2, similarity_score))\n",
        "\n",
        "# إنشاء DataFrame جديد للأسماء المتشابهة\n",
        "duplicates_df = pd.DataFrame(duplicates, columns=['Name 1', 'Name 2', 'Similarity Score'])\n",
        "\n",
        "# إضافة الأعمدة الجديدة إلى DataFrame الأصلي\n",
        "df = pd.concat([df, duplicates_df], axis=1)\n",
        "\n",
        "# حفظ DataFrame محدث في ملف Excel موجود\n",
        "with pd.ExcelWriter('duplicates.xlsx') as writer:\n",
        "    df.to_excel(writer, index=False)\n",
        "\n",
        "print('Done!')"
      ],
      "metadata": {
        "id": "LmRb4vm6kY9U"
      },
      "execution_count": 9,
      "outputs": []
    }
  ]
}